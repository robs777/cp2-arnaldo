{
 "cells": [
  {
   "attachments": {},
   "cell_type": "markdown",
   "metadata": {},
   "source": [
    "### HOJE TESTAMOS NOSSA  API DE RECEITAS QUE VAMOS UTILIZAR  NO NOSSO PROJETO\n"
   ]
  },
  {
   "attachments": {},
   "cell_type": "markdown",
   "metadata": {},
   "source": [
    "## Pedro:\n",
    "\n"
   ]
  },
  {
   "cell_type": "code",
   "execution_count": 2,
   "metadata": {},
   "outputs": [
    {
     "name": "stdout",
     "output_type": "stream",
     "text": [
      "[{'id': 1, 'receita': 'Macarrão à Carbonara', 'ingredientes': '200g de espaguete, 100g de pancetta ou bacon, 2 ovos, 1 xícara de queijo parmesão ralado, 2 dentes de alho, sal e pimenta a gosto', 'modo_preparo': '1. Cozinhe o espaguete al dente de acordo com as instruções da embalagem. 2. Enquanto isso, frite a pancetta ou bacon em uma frigideira até que fique crocante. 3. Em uma tigela, bata os ovos e adicione o queijo parmesão ralado. 4. Quando o espaguete estiver pronto, escorra e reserve um pouco da água do cozimento. 5. Misture o espaguete cozido, a pancetta frita e o alho picado na frigideira. 6. Retire do fogo e adicione a mistura de ovos e queijo, mexendo rapidamente para não coagular. Se necessário, adicione um pouco da água do cozimento para obter a consistência desejada. 7. Tempere com sal e pimenta a gosto. Sirva imediatamente.', 'link_imagem': 'https://i.ytimg.com/vi/rY4mz5TLtz4/maxresdefault.jpg', 'tipo': 'salgado', 'created_at': '2023-12-31T01:54:02.909Z', 'IngredientesBase': [{'id': 1, 'nomesIngrediente': ['espaguete', 'pancetta', 'ovos', 'queijo parmesão', 'alho'], 'receita_id': 1, 'created_at': '2023-12-31T01:54:02.909Z'}]}, {'id': 2, 'receita': 'Bolo de Cenoura', 'ingredientes': '3 cenouras médias, 3 ovos, 1 xícara de óleo, 2 xícaras de farinha de trigo, 2 xícaras de açúcar, 1 colher de sopa de fermento em pó', 'modo_preparo': '1. Descasque e corte as cenouras em pedaços. 2. No liquidificador, bata as cenouras, os ovos e o óleo até obter uma mistura homogênea. 3. Em uma tigela, adicione a farinha de trigo, o açúcar e o fermento. Misture bem. 4. Acrescente a mistura líquida do liquidificador à tigela e mexa até incorporar todos os ingredientes. 5. Despeje a massa em uma forma untada e leve ao forno preaquecido a 180°C por aproximadamente 40 minutos ou até dourar. 6. Retire do forno, deixe esfriar e desenforme.', 'link_imagem': 'https://i.ytimg.com/vi/bBqEpmMuMhk/maxresdefault.jpg', 'tipo': 'doce', 'created_at': '2023-12-31T01:54:46.940Z', 'IngredientesBase': [{'id': 2, 'nomesIngrediente': ['cenoura', 'ovos'], 'receita_id': 2, 'created_at': '2023-12-31T01:54:46.940Z'}]}, {'id': 3, 'receita': 'Salada Caesar', 'ingredientes': '2 peitos de frango, alface romana, croutons, queijo parmesão ralado, molho Caesar (molho de anchova, azeite de oliva, maionese, suco de limão, mostarda Dijon, alho, sal e pimenta)', 'modo_preparo': '1. Tempere os peitos de frango com sal e pimenta e grelhe até que estejam cozidos por completo. Corte em tiras. 2. Lave e rasgue as folhas de alface romana. 3. Prepare o molho Caesar misturando molho de anchova, azeite de oliva, maionese, suco de limão, mostarda Dijon e alho. 4. Em uma tigela grande, misture a alface, os croutons e o queijo parmesão ralado. 5. Adicione as tiras de frango grelhado por cima. 6. Regue a salada com o molho Caesar e sirva.', 'link_imagem': 'https://s23209.pcdn.co/wp-content/uploads/2023/01/220905_DD_Chx-Caesar-Salad_051.jpg', 'tipo': 'salgado', 'created_at': '2023-12-31T01:54:56.010Z', 'IngredientesBase': [{'id': 3, 'nomesIngrediente': ['frango', 'alface romana', 'croutons', 'queijo parmesão', 'molho Caesar'], 'receita_id': 3, 'created_at': '2023-12-31T01:54:56.010Z'}]}, {'id': 4, 'receita': 'Pudim de Leite Condensado', 'ingredientes': '1 lata de leite condensado, 2 latas de leite (use a lata de leite condensado vazia para medir), 3 ovos, açúcar para caramelizar a forma', 'modo_preparo': '1. Comece preparando a calda de caramelo: em uma panela, derreta açúcar até obter um caramelo dourado. Despeje o caramelo em uma forma de pudim e espalhe bem, cobrindo todo o fundo da forma. 2. No liquidificador, bata o leite condensado, o leite e os ovos até obter uma mistura homogênea. 3. Despeje essa mistura na forma caramelizada. 4. Cubra a forma com papel-alumínio e leve ao forno preaquecido a 180°C em banho-maria por aproximadamente 1 hora ou até que o pudim esteja firme. 5. Deixe esfriar, desenforme e sirva.', 'link_imagem': 'https://braziliankitchenabroad.com/wp-content/uploads/2020/09/pudim-brazilian-flan-20-500x500.jpg', 'tipo': 'doce', 'created_at': '2023-12-31T01:55:03.627Z', 'IngredientesBase': [{'id': 4, 'nomesIngrediente': ['leite condensado', 'leite', 'ovos', 'açúcar'], 'receita_id': 4, 'created_at': '2023-12-31T01:55:03.627Z'}]}, {'id': 5, 'receita': 'Salmão Grelhado com Molho de Limão', 'ingredientes': '4 filés de salmão, suco de 2 limões, 2 colheres de sopa de azeite de oliva, 2 dentes de alho picados, sal e pimenta a gosto', 'modo_preparo': '1. Tempere os filés de salmão com sal, pimenta, suco de limão e alho picado. Deixe marinar por 30 minutos. 2. Aqueça o azeite de oliva em uma frigideira e grelhe os filés de salmão por cerca de 4 minutos de cada lado ou até que estejam cozidos. 3. Sirva os filés de salmão com o molho de limão por cima.', 'link_imagem': 'https://www.mococa.com.br/wp-content/uploads/2022/03/Salmao-grelhao-ao-molho-de-limao.jpeg', 'tipo': 'salgado', 'created_at': '2023-12-31T01:55:09.486Z', 'IngredientesBase': [{'id': 5, 'nomesIngrediente': ['salmão', 'limão', 'azeite de oliva', 'alho'], 'receita_id': 5, 'created_at': '2023-12-31T01:55:09.486Z'}]}, {'id': 6, 'receita': 'Pão de Queijo', 'ingredientes': '250g de polvilho doce, 100ml de leite, 100ml de água, 80ml de óleo, 1 ovo, 100g de queijo parmesão ralado, sal a gosto', 'modo_preparo': '1. Em uma panela, aqueça o leite, a água e o óleo até ferver. 2. Despeje essa mistura sobre o polvilho doce e mexa até formar uma massa. 3. Deixe a massa esfriar um pouco e adicione o ovo, o queijo parmesão ralado e sal a gosto. 4. Amasse bem até que a massa esteja homogênea. 5. Modele bolinhas com a massa e coloque em uma assadeira untada. 6. Leve ao forno preaquecido a 180°C por aproximadamente 20 minutos ou até que os pães de queijo estejam dourados.', 'link_imagem': 'https://www.allrecipes.com/thmb/t1_kc78zVgR-59-2lpPrSEXAWuE=/1500x0/filters:no_upscale():max_bytes(150000):strip_icc()/8796530-brazilian-cheese-bread-pao-de-queijo-Faith-Ang-4x3-1-2000-a00a691330fd450683950ec993b9a791.jpg', 'tipo': 'salgado', 'created_at': '2023-12-31T01:55:14.753Z', 'IngredientesBase': [{'id': 6, 'nomesIngrediente': ['polvilho doce', 'leite', 'água', 'óleo', 'ovo', 'queijo parmesão'], 'receita_id': 6, 'created_at': '2023-12-31T01:55:14.753Z'}]}, {'id': 7, 'receita': 'Sorvete de Chocolate', 'ingredientes': '2 xícaras de creme de leite, 1 xícara de leite condensado, 1/2 xícara de cacau em pó, 1 colher de chá de essência de baunilha, 100g de chocolate meio amargo picado', 'modo_preparo': '1. Em uma panela, aqueça o creme de leite, o leite condensado, o cacau em pó e a essência de baunilha até que fique homogêneo e quente. 2. Retire do fogo e adicione o chocolate meio amargo picado. Mexa até que o chocolate derreta completamente. 3. Deixe a mistura esfriar. 4. Despeje a mistura em uma sorveteira e siga as instruções do fabricante. Se você não tiver uma sorveteira, coloque a mistura em um recipiente hermético e leve ao freezer, mexendo a cada 30 minutos até que o sorvete esteja firme. 5. Sirva o sorvete de chocolate.', 'link_imagem': 'https://static.vecteezy.com/system/resources/previews/000/764/869/non_2x/chocolate-and-vanilla-ice-cream-photo.jpg', 'tipo': 'doce', 'created_at': '2023-12-31T01:55:19.649Z', 'IngredientesBase': [{'id': 7, 'nomesIngrediente': ['creme de leite', 'leite condensado', 'cacau em pó', 'essência de baunilha', 'chocolate meio amargo'], 'receita_id': 7, 'created_at': '2023-12-31T01:55:19.649Z'}]}, {'id': 8, 'receita': 'Frango à Parmegiana', 'ingredientes': '4 filés de peito de frango, sal e pimenta a gosto, 1 xícara de farinha de trigo, 2 ovos batidos, 1 xícara de farinha de rosca, 2 xícaras de molho de tomate, 2 xícaras de queijo muçarela ralado, óleo para fritar', 'modo_preparo': '1. Tempere os filés de frango com sal e pimenta. 2. Passe cada filé na farinha de trigo, nos ovos batidos e na farinha de rosca, nessa ordem. 3. Aqueça o óleo em uma frigideira e frite os filés de frango até que fiquem dourados e cozidos por completo. 4. Em um refratário, coloque um pouco de molho de tomate no fundo. 5. Disponha os filés de frango fritos por cima. 6. Cubra os filés com o restante do molho de tomate e o queijo muçarela ralado. 7. Leve ao forno preaquecido a 180°C por cerca de 20 minutos ou até que o queijo esteja derretido e borbulhante. 8. Sirva o frango à Parmegiana acompanhado de massa de sua escolha.', 'link_imagem': 'https://bigoven-res.cloudinary.com/image/upload/t_recipe-1280/fil-de-frango-parmegiana-bcd93f.jpg', 'tipo': 'salgado', 'created_at': '2023-12-31T01:55:25.452Z', 'IngredientesBase': [{'id': 8, 'nomesIngrediente': ['peito de frango', 'farinha de trigo', 'ovos', 'farinha de rosca', 'molho de tomate', 'queijo muçarela'], 'receita_id': 8, 'created_at': '2023-12-31T01:55:25.452Z'}]}, {'id': 9, 'receita': 'Torta de Maçã', 'ingredientes': '3 maçãs descascadas e fatiadas, 1 colher de chá de canela em pó, 1/2 xícara de açúcar, 1 xícara de farinha de trigo, 1/2 xícara de manteiga derretida, 1 xícara de açúcar mascavo, 2 ovos, 1 colher de chá de essência de baunilha, 1 colher de chá de fermento em pó, 1/2 colher de chá de sal', 'modo_preparo': '1. Em uma tigela, misture as maçãs fatiadas, a canela em pó e 1/2 xícara de açúcar. Reserve. 2. Em outra tigela, misture a farinha de trigo, a manteiga derretida, o açúcar mascavo, os ovos, a essência de baunilha, o fermento em pó e o sal até obter uma massa homogênea. 3. Em uma forma untada, coloque metade da massa. 4. Disponha a mistura de maçã por cima. 5. Cubra com o restante da massa. 6. Leve ao forno preaquecido a 180°C por cerca de 40 minutos ou até que a torta esteja dourada e firme. 7. Deixe esfriar antes de cortar e servir.', 'link_imagem': 'https://i.pinimg.com/736x/9a/e3/1b/9ae31b7959026c375c82e8bce99b56eb.jpg', 'tipo': 'doce', 'created_at': '2023-12-31T01:55:30.467Z', 'IngredientesBase': [{'id': 9, 'nomesIngrediente': ['maçãs', 'canela em pó', 'açúcar', 'farinha de trigo', 'manteiga', 'açúcar mascavo', 'ovos', 'essência de baunilha', 'fermento em pó', 'sal'], 'receita_id': 9, 'created_at': '2023-12-31T01:55:30.467Z'}]}, {'id': 10, 'receita': 'Arroz de Camarão', 'ingredientes': '2 xícaras de arroz, 400g de camarão, 1 cebola picada, 2 dentes de alho picados, 1 pimentão vermelho picado, 1 pimentão verde picado, 1 tomate picado, 1/2 xícara de molho de tomate, 1 colher de sopa de azeite de oliva, sal e pimenta a gosto', 'modo_preparo': '1. Tempere os camarões com sal, pimenta e alho picado. Reserve. 2. Em uma panela, aqueça o azeite de oliva e refogue a cebola até que fique dourada. 3. Adicione os camarões e cozinhe até que fiquem rosados. Retire os camarões da panela e reserve. 4. Na mesma panela, adicione os pimentões, o tomate e o molho de tomate. Cozinhe por alguns minutos. 5. Adicione o arroz e refogue por mais alguns minutos. 6. Volte os camarões para a panela e misture tudo. 7. Adicione água suficiente para cozinhar o arroz, de acordo com as instruções da embalagem. 8. Cozinhe até que o arroz esteja pronto. 9. Sirva o arroz de camarão quente.', 'link_imagem': 'https://i0.wp.com/howtocookportuguesestuff.com/wp-content/uploads/2023/04/arroz-de-camarao.jpg?fit=1454%2C1988&ssl=1', 'tipo': 'salgado', 'created_at': '2023-12-31T01:55:36.128Z', 'IngredientesBase': [{'id': 10, 'nomesIngrediente': ['arroz', 'camarão', 'cebola', 'alho', 'pimentão vermelho', 'pimentão verde', 'tomate', 'molho de tomate', 'azeite de oliva'], 'receita_id': 10, 'created_at': '2023-12-31T01:55:36.128Z'}]}, {'id': 11, 'receita': 'Bolo de Chocolate', 'ingredientes': '2 xícaras de farinha de trigo, 1 xícara de cacau em pó, 1 1/2 colher de chá de fermento em pó, 1 1/2 colher de chá de bicarbonato de sódio, 1/2 colher de chá de sal, 2 xícaras de açúcar, 3 ovos, 2 colheres de chá de essência de baunilha, 1 xícara de buttermilk (ou 1 xícara de leite com 1 colher de sopa de vinagre branco), 1 xícara de café forte, 1/2 xícara de óleo vegetal', 'modo_preparo': '1. Pré-aqueça o forno a 180°C e unte duas formas de bolo. 2. Em uma tigela grande, peneire a farinha de trigo, o cacau em pó, o fermento, o bicarbonato e o sal. 3. Em outra tigela, bata o açúcar, os ovos e a essência de baunilha até obter uma mistura cremosa. 4. Adicione o buttermilk, o café forte e o óleo à mistura de ovos e açúcar. 5. Misture os ingredientes líquidos com os ingredientes secos até obter uma massa homogênea. 6. Divida a massa entre as duas formas de bolo e leve ao forno por 25-30 minutos, ou até que um palito inserido no centro saia limpo. 7. Deixe os bolos esfriarem antes de desenformar e decorar a gosto.', 'link_imagem': 'https://i.ytimg.com/vi/qnZ360evVME/maxresdefault.jpg', 'tipo': 'doce', 'created_at': '2023-12-31T01:55:42.140Z', 'IngredientesBase': [{'id': 11, 'nomesIngrediente': ['farinha de trigo', 'cacau em pó', 'fermento em pó', 'bicarbonato de sódio', 'sal', 'açúcar', 'ovos', 'essência de baunilha', 'buttermilk', 'café forte', 'óleo vegetal'], 'receita_id': 11, 'created_at': '2023-12-31T01:55:42.140Z'}]}, {'id': 12, 'receita': 'Risoto de Cogumelos', 'ingredientes': '1 xícara de arroz arbóreo, 200g de cogumelos (shitake, shimeji, champignon), 1 cebola picada, 2 dentes de alho picados, 1/2 xícara de vinho branco seco, 4 xícaras de caldo de legumes, 2 colheres de sopa de manteiga, 1/2 xícara de queijo parmesão ralado, sal e pimenta a gosto', 'modo_preparo': '1. Em uma panela, aqueça o caldo de legumes e mantenha-o quente em fogo baixo. 2. Em outra panela, derreta a manteiga e refogue a cebola e o alho até ficarem transparentes. 3. Adicione os cogumelos e refogue até que estejam dourados. 4. Acrescente o arroz arbóreo e mexa por alguns minutos. 5. Despeje o vinho branco na panela e mexa até que seja absorvido pelo arroz. 6. Comece a adicionar o caldo de legumes, uma concha por vez, mexendo constantemente e esperando que o líquido seja absorvido antes de adicionar mais. Repita esse processo até que o arroz esteja cozido e cremoso. 7. Tempere com sal e pimenta a gosto. 8. Retire do fogo, adicione o queijo parmesão ralado e mexa bem. 9. Sirva o risoto de cogumelos quente.', 'link_imagem': 'http://3.bp.blogspot.com/-0HLjHwcUtGo/URxMxFvcxDI/AAAAAAAAICM/utNw4gu8Swo/s1600/Mushroom-Bacon+risotto.jpg', 'tipo': 'salgado', 'created_at': '2023-12-31T01:55:47.736Z', 'IngredientesBase': [{'id': 12, 'nomesIngrediente': ['arroz arbóreo', 'cogumelos', 'cebola', 'alho', 'vinho branco seco', 'caldo de legumes', 'manteiga', 'queijo parmesão'], 'receita_id': 12, 'created_at': '2023-12-31T01:55:47.736Z'}]}, {'id': 13, 'receita': 'Mousse de Maracujá', 'ingredientes': '1 lata de leite condensado, 1 lata de creme de leite, suco de 3 maracujás, 1/2 xícara de açúcar, sementes de maracujá para decorar', 'modo_preparo': '1. Em uma tigela, misture o leite condensado e o creme de leite. 2. Adicione o suco de maracujá e o açúcar. Misture bem até obter um creme homogêneo. 3. Despeje a mousse em taças individuais. 4. Leve à geladeira por pelo menos 2 horas. 5. Antes de servir, decore com sementes de maracujá.', 'link_imagem': 'https://www.easyanddelish.com/wp-content/uploads/2020/07/passion-fruit-mousse-recipe-2-como-fazer-mousse-de-maracuja-2.jpg', 'tipo': 'doce', 'created_at': '2023-12-31T01:56:22.111Z', 'IngredientesBase': [{'id': 13, 'nomesIngrediente': ['leite condensado', 'creme de leite', 'maracujá', 'açúcar'], 'receita_id': 13, 'created_at': '2023-12-31T01:56:22.111Z'}]}, {'id': 14, 'receita': 'Sopa de Abóbora', 'ingredientes': '1 abóbora, 1 cebola picada, 2 dentes de alho picados, 1 batata, 1 cenoura, 4 xícaras de caldo de legumes, 1 colher de sopa de azeite de oliva, sal e pimenta a gosto', 'modo_preparo': '1. Descasque e corte a abóbora, a batata e a cenoura em pedaços. 2. Em uma panela, aqueça o azeite de oliva e refogue a cebola e o alho até ficarem dourados. 3. Adicione a abóbora, a batata e a cenoura à panela e refogue por alguns minutos. 4. Despeje o caldo de legumes na panela e leve a sopa para ferver. 5. Reduza o fogo e cozinhe até que os legumes estejam macios. 6. Use um liquidificador de mão ou um liquidificador convencional para triturar a sopa até obter uma consistência cremosa. 7. Tempere com sal e pimenta a gosto. 8. Sirva a sopa de abóbora quente.', 'link_imagem': 'https://newengland.com/wp-content/uploads/David-Leite-Food-Feature-3-Pumpkin-Soup.jpg', 'tipo': 'salgado', 'created_at': '2023-12-31T01:56:32.288Z', 'IngredientesBase': [{'id': 14, 'nomesIngrediente': ['abóbora', 'cebola', 'alho', 'batata', 'cenoura', 'caldo de legumes', 'azeite de oliva'], 'receita_id': 14, 'created_at': '2023-12-31T01:56:32.288Z'}]}, {'id': 15, 'receita': 'Panquecas Americanas', 'ingredientes': '1 xícara de farinha de trigo, 2 colheres de açúcar, 1 colher de chá de fermento em pó, 1/2 colher de chá de bicarbonato de sódio, 1 pitada de sal, 1 ovo, 1 xícara de leite, 2 colheres de sopa de manteiga derretida, óleo para untar a frigideira', 'modo_preparo': '1. Em uma tigela, misture a farinha de trigo, o açúcar, o fermento, o bicarbonato de sódio e o sal. 2. Em outra tigela, bata o ovo e adicione o leite e a manteiga derretida. 3. Despeje a mistura líquida na mistura de ingredientes secos e mexa até obter uma massa homogênea. 4. Aqueça uma frigideira antiaderente e unte com um pouco de óleo. 5. Coloque conchas de massa na frigideira e cozinhe até que bolhas se formem na superfície. 6. Vire as panquecas e cozinhe do outro lado até dourarem. 7. Sirva as panquecas americanas com o acompanhamento de sua preferência.', 'link_imagem': 'https://static.itdg.com.br/images/360-240/7ce273e5b1841e3cf6986d2cd8aee673/283895-original.jpg', 'tipo': 'doce', 'created_at': '2023-12-31T01:56:37.812Z', 'IngredientesBase': [{'id': 15, 'nomesIngrediente': ['farinha de trigo', 'açúcar', 'fermento em pó', 'bicarbonato de sódio', 'sal', 'ovo', 'leite', 'manteiga'], 'receita_id': 15, 'created_at': '2023-12-31T01:56:37.812Z'}]}, {'id': 16, 'receita': 'Ratatouille', 'ingredientes': '1 berinjela, 1 abobrinha, 1 pimentão vermelho, 1 pimentão amarelo, 1 cebola, 2 dentes de alho, 3 tomates maduros, azeite de oliva, sal, pimenta, alecrim e tomilho a gosto', 'modo_preparo': '1. Corte a berinjela, a abobrinha, os pimentões, a cebola e os tomates em rodelas finas. 2. Em uma assadeira, intercale as rodelas de legumes, criando camadas. 3. Regue com azeite de oliva, tempere com sal, pimenta, alecrim e tomilho a gosto. 4. Leve a assadeira ao forno preaquecido a 180°C e asse por cerca de 45 minutos, ou até que os legumes estejam macios e levemente dourados. 5. Sirva o ratatouille quente.', 'link_imagem': 'https://img.buzzfeed.com/video-api-prod/assets/eb44570519264864814264f7f0a5e47a/BFV13909_BakedRatatouille-ThumbTextless1080.jpg?resize=1200:*', 'tipo': 'salgado', 'created_at': '2023-12-31T01:56:43.598Z', 'IngredientesBase': [{'id': 16, 'nomesIngrediente': ['berinjela', 'abobrinha', 'pimentão vermelho', 'pimentão amarelo', 'cebola', 'alho', 'tomates', 'azeite de oliva', 'sal', 'pimenta', 'alecrim', 'tomilho'], 'receita_id': 16, 'created_at': '2023-12-31T01:56:43.598Z'}]}, {'id': 17, 'receita': 'Ratatouille', 'ingredientes': '1 berinjela, 1 abobrinha, 1 pimentão vermelho, 1 pimentão amarelo, 1 cebola, 2 dentes de alho, 3 tomates maduros, azeite de oliva, sal, pimenta, alecrim e tomilho a gosto', 'modo_preparo': 'Corte a berinjela, a abobrinha, os pimentões, a cebola e os tomates em rodelas finas. Em uma assadeira, intercale as rodelas de legumes, criando camadas. Regue com azeite de oliva, tempere com sal, pimenta, alecrim e tomilho a gosto. Leve a assadeira ao forno preaquecido a 180°C e asse por cerca de 45 minutos, ou até que os legumes estejam macios e levemente dourados. Sirva o ratatouille quente.', 'link_imagem': 'https://media.chefdehome.com/740/0/0/ratatouille/ratatouille-casserole.jpg', 'tipo': 'salgado', 'created_at': '2023-12-31T15:36:42.150Z', 'IngredientesBase': [{'id': 17, 'nomesIngrediente': ['berinjela', 'abobrinha', 'pimentão vermelho', 'pimentão amarelo', 'cebola', 'alho', 'tomates', 'azeite de oliva', 'sal', 'pimenta', 'alecrim', 'tomilho'], 'receita_id': 17, 'created_at': '2023-12-31T15:36:42.150Z'}]}]\n",
      "temos uma quantidade total de receitas cadastradas de 17\n",
      "hoje vamos preparar um {'id': 1, 'receita': 'Macarrão à Carbonara', 'ingredientes': '200g de espaguete, 100g de pancetta ou bacon, 2 ovos, 1 xícara de queijo parmesão ralado, 2 dentes de alho, sal e pimenta a gosto', 'modo_preparo': '1. Cozinhe o espaguete al dente de acordo com as instruções da embalagem. 2. Enquanto isso, frite a pancetta ou bacon em uma frigideira até que fique crocante. 3. Em uma tigela, bata os ovos e adicione o queijo parmesão ralado. 4. Quando o espaguete estiver pronto, escorra e reserve um pouco da água do cozimento. 5. Misture o espaguete cozido, a pancetta frita e o alho picado na frigideira. 6. Retire do fogo e adicione a mistura de ovos e queijo, mexendo rapidamente para não coagular. Se necessário, adicione um pouco da água do cozimento para obter a consistência desejada. 7. Tempere com sal e pimenta a gosto. Sirva imediatamente.', 'link_imagem': 'https://i.ytimg.com/vi/rY4mz5TLtz4/maxresdefault.jpg', 'tipo': 'salgado', 'created_at': '2023-12-31T01:54:02.909Z', 'IngredientesBase': [{'id': 1, 'nomesIngrediente': ['espaguete', 'pancetta', 'ovos', 'queijo parmesão', 'alho'], 'receita_id': 1, 'created_at': '2023-12-31T01:54:02.909Z'}]}\n",
      "hoje vamos prepara uma deliciosa Macarrão à Carbonara\n",
      "vamos preparar o a 200g de espaguete, 100g de pancetta ou bacon, 2 ovos, 1 xícara de queijo parmesão ralado, 2 dentes de alho, sal e pimenta a gosto\n"
     ]
    }
   ],
   "source": [
    "import requests\n",
    "\n",
    "response = requests.get('https://gold-anemone-wig.cyclic.app/receitas/todas')\n",
    "# print(response.text)\n",
    "\n",
    "print(response.json())\n",
    "\n",
    "\n",
    "receita = response.json()[0]\n",
    "tamanhao = len(response.json())\n",
    "print(f'temos uma quantidade total de receitas cadastradas de {tamanhao}')\n",
    "print(f'hoje vamos preparar um {receita}')\n",
    "ingredientes = receita['ingredientes']\n",
    "nome = receita['receita']\n",
    "print(f'hoje vamos prepara uma deliciosa {nome}')\n",
    "print(f'vamos preparar o a {ingredientes}')"
   ]
  },
  {
   "cell_type": "code",
   "execution_count": 22,
   "metadata": {},
   "outputs": [
    {
     "name": "stdout",
     "output_type": "stream",
     "text": [
      "[{'id': 2, 'receita': 'Bolo de Cenoura', 'ingredientes': '3 cenouras médias, 3 ovos, 1 xícara de óleo, 2 xícaras de farinha de trigo, 2 xícaras de açúcar, 1 colher de sopa de fermento em pó', 'modo_preparo': '1. Descasque e corte as cenouras em pedaços. 2. No liquidificador, bata as cenouras, os ovos e o óleo até obter uma mistura homogênea. 3. Em uma tigela, adicione a farinha de trigo, o açúcar e o fermento. Misture bem. 4. Acrescente a mistura líquida do liquidificador à tigela e mexa até incorporar todos os ingredientes. 5. Despeje a massa em uma forma untada e leve ao forno preaquecido a 180°C por aproximadamente 40 minutos ou até dourar. 6. Retire do forno, deixe esfriar e desenforme.', 'link_imagem': 'https://i.ytimg.com/vi/bBqEpmMuMhk/maxresdefault.jpg', 'tipo': 'doce', 'created_at': '2023-12-31T01:54:46.940Z', 'IngredientesBase': [{'id': 2, 'nomesIngrediente': ['cenoura', 'ovos'], 'receita_id': 2, 'created_at': '2023-12-31T01:54:46.940Z'}]}, {'id': 4, 'receita': 'Pudim de Leite Condensado', 'ingredientes': '1 lata de leite condensado, 2 latas de leite (use a lata de leite condensado vazia para medir), 3 ovos, açúcar para caramelizar a forma', 'modo_preparo': '1. Comece preparando a calda de caramelo: em uma panela, derreta açúcar até obter um caramelo dourado. Despeje o caramelo em uma forma de pudim e espalhe bem, cobrindo todo o fundo da forma. 2. No liquidificador, bata o leite condensado, o leite e os ovos até obter uma mistura homogênea. 3. Despeje essa mistura na forma caramelizada. 4. Cubra a forma com papel-alumínio e leve ao forno preaquecido a 180°C em banho-maria por aproximadamente 1 hora ou até que o pudim esteja firme. 5. Deixe esfriar, desenforme e sirva.', 'link_imagem': 'https://braziliankitchenabroad.com/wp-content/uploads/2020/09/pudim-brazilian-flan-20-500x500.jpg', 'tipo': 'doce', 'created_at': '2023-12-31T01:55:03.627Z', 'IngredientesBase': [{'id': 4, 'nomesIngrediente': ['leite condensado', 'leite', 'ovos', 'açúcar'], 'receita_id': 4, 'created_at': '2023-12-31T01:55:03.627Z'}]}, {'id': 7, 'receita': 'Sorvete de Chocolate', 'ingredientes': '2 xícaras de creme de leite, 1 xícara de leite condensado, 1/2 xícara de cacau em pó, 1 colher de chá de essência de baunilha, 100g de chocolate meio amargo picado', 'modo_preparo': '1. Em uma panela, aqueça o creme de leite, o leite condensado, o cacau em pó e a essência de baunilha até que fique homogêneo e quente. 2. Retire do fogo e adicione o chocolate meio amargo picado. Mexa até que o chocolate derreta completamente. 3. Deixe a mistura esfriar. 4. Despeje a mistura em uma sorveteira e siga as instruções do fabricante. Se você não tiver uma sorveteira, coloque a mistura em um recipiente hermético e leve ao freezer, mexendo a cada 30 minutos até que o sorvete esteja firme. 5. Sirva o sorvete de chocolate.', 'link_imagem': 'https://static.vecteezy.com/system/resources/previews/000/764/869/non_2x/chocolate-and-vanilla-ice-cream-photo.jpg', 'tipo': 'doce', 'created_at': '2023-12-31T01:55:19.649Z', 'IngredientesBase': [{'id': 7, 'nomesIngrediente': ['creme de leite', 'leite condensado', 'cacau em pó', 'essência de baunilha', 'chocolate meio amargo'], 'receita_id': 7, 'created_at': '2023-12-31T01:55:19.649Z'}]}, {'id': 9, 'receita': 'Torta de Maçã', 'ingredientes': '3 maçãs descascadas e fatiadas, 1 colher de chá de canela em pó, 1/2 xícara de açúcar, 1 xícara de farinha de trigo, 1/2 xícara de manteiga derretida, 1 xícara de açúcar mascavo, 2 ovos, 1 colher de chá de essência de baunilha, 1 colher de chá de fermento em pó, 1/2 colher de chá de sal', 'modo_preparo': '1. Em uma tigela, misture as maçãs fatiadas, a canela em pó e 1/2 xícara de açúcar. Reserve. 2. Em outra tigela, misture a farinha de trigo, a manteiga derretida, o açúcar mascavo, os ovos, a essência de baunilha, o fermento em pó e o sal até obter uma massa homogênea. 3. Em uma forma untada, coloque metade da massa. 4. Disponha a mistura de maçã por cima. 5. Cubra com o restante da massa. 6. Leve ao forno preaquecido a 180°C por cerca de 40 minutos ou até que a torta esteja dourada e firme. 7. Deixe esfriar antes de cortar e servir.', 'link_imagem': 'https://i.pinimg.com/736x/9a/e3/1b/9ae31b7959026c375c82e8bce99b56eb.jpg', 'tipo': 'doce', 'created_at': '2023-12-31T01:55:30.467Z', 'IngredientesBase': [{'id': 9, 'nomesIngrediente': ['maçãs', 'canela em pó', 'açúcar', 'farinha de trigo', 'manteiga', 'açúcar mascavo', 'ovos', 'essência de baunilha', 'fermento em pó', 'sal'], 'receita_id': 9, 'created_at': '2023-12-31T01:55:30.467Z'}]}, {'id': 11, 'receita': 'Bolo de Chocolate', 'ingredientes': '2 xícaras de farinha de trigo, 1 xícara de cacau em pó, 1 1/2 colher de chá de fermento em pó, 1 1/2 colher de chá de bicarbonato de sódio, 1/2 colher de chá de sal, 2 xícaras de açúcar, 3 ovos, 2 colheres de chá de essência de baunilha, 1 xícara de buttermilk (ou 1 xícara de leite com 1 colher de sopa de vinagre branco), 1 xícara de café forte, 1/2 xícara de óleo vegetal', 'modo_preparo': '1. Pré-aqueça o forno a 180°C e unte duas formas de bolo. 2. Em uma tigela grande, peneire a farinha de trigo, o cacau em pó, o fermento, o bicarbonato e o sal. 3. Em outra tigela, bata o açúcar, os ovos e a essência de baunilha até obter uma mistura cremosa. 4. Adicione o buttermilk, o café forte e o óleo à mistura de ovos e açúcar. 5. Misture os ingredientes líquidos com os ingredientes secos até obter uma massa homogênea. 6. Divida a massa entre as duas formas de bolo e leve ao forno por 25-30 minutos, ou até que um palito inserido no centro saia limpo. 7. Deixe os bolos esfriarem antes de desenformar e decorar a gosto.', 'link_imagem': 'https://i.ytimg.com/vi/qnZ360evVME/maxresdefault.jpg', 'tipo': 'doce', 'created_at': '2023-12-31T01:55:42.140Z', 'IngredientesBase': [{'id': 11, 'nomesIngrediente': ['farinha de trigo', 'cacau em pó', 'fermento em pó', 'bicarbonato de sódio', 'sal', 'açúcar', 'ovos', 'essência de baunilha', 'buttermilk', 'café forte', 'óleo vegetal'], 'receita_id': 11, 'created_at': '2023-12-31T01:55:42.140Z'}]}, {'id': 13, 'receita': 'Mousse de Maracujá', 'ingredientes': '1 lata de leite condensado, 1 lata de creme de leite, suco de 3 maracujás, 1/2 xícara de açúcar, sementes de maracujá para decorar', 'modo_preparo': '1. Em uma tigela, misture o leite condensado e o creme de leite. 2. Adicione o suco de maracujá e o açúcar. Misture bem até obter um creme homogêneo. 3. Despeje a mousse em taças individuais. 4. Leve à geladeira por pelo menos 2 horas. 5. Antes de servir, decore com sementes de maracujá.', 'link_imagem': 'https://www.easyanddelish.com/wp-content/uploads/2020/07/passion-fruit-mousse-recipe-2-como-fazer-mousse-de-maracuja-2.jpg', 'tipo': 'doce', 'created_at': '2023-12-31T01:56:22.111Z', 'IngredientesBase': [{'id': 13, 'nomesIngrediente': ['leite condensado', 'creme de leite', 'maracujá', 'açúcar'], 'receita_id': 13, 'created_at': '2023-12-31T01:56:22.111Z'}]}, {'id': 15, 'receita': 'Panquecas Americanas', 'ingredientes': '1 xícara de farinha de trigo, 2 colheres de açúcar, 1 colher de chá de fermento em pó, 1/2 colher de chá de bicarbonato de sódio, 1 pitada de sal, 1 ovo, 1 xícara de leite, 2 colheres de sopa de manteiga derretida, óleo para untar a frigideira', 'modo_preparo': '1. Em uma tigela, misture a farinha de trigo, o açúcar, o fermento, o bicarbonato de sódio e o sal. 2. Em outra tigela, bata o ovo e adicione o leite e a manteiga derretida. 3. Despeje a mistura líquida na mistura de ingredientes secos e mexa até obter uma massa homogênea. 4. Aqueça uma frigideira antiaderente e unte com um pouco de óleo. 5. Coloque conchas de massa na frigideira e cozinhe até que bolhas se formem na superfície. 6. Vire as panquecas e cozinhe do outro lado até dourarem. 7. Sirva as panquecas americanas com o acompanhamento de sua preferência.', 'link_imagem': 'https://static.itdg.com.br/images/360-240/7ce273e5b1841e3cf6986d2cd8aee673/283895-original.jpg', 'tipo': 'doce', 'created_at': '2023-12-31T01:56:37.812Z', 'IngredientesBase': [{'id': 15, 'nomesIngrediente': ['farinha de trigo', 'açúcar', 'fermento em pó', 'bicarbonato de sódio', 'sal', 'ovo', 'leite', 'manteiga'], 'receita_id': 15, 'created_at': '2023-12-31T01:56:37.812Z'}]}]\n"
     ]
    }
   ],
   "source": [
    "import requests\n",
    "\n",
    "response = requests.get('https://gold-anemone-wig.cyclic.app/receitas//tipo/doce')\n",
    "# print(response.text)\n",
    "\n",
    "print(response.json())\n"
   ]
  },
  {
   "cell_type": "code",
   "execution_count": 21,
   "metadata": {},
   "outputs": [
    {
     "name": "stdout",
     "output_type": "stream",
     "text": [
      "Macarrão à Carbonara\n"
     ]
    }
   ],
   "source": [
    "import requests\n",
    "\n",
    "response = requests.get('https://gold-anemone-wig.cyclic.app/receitas/1')\n",
    "# print(response.text)\n",
    "\n",
    "print(response.json()['receita'])\n"
   ]
  },
  {
   "cell_type": "code",
   "execution_count": 1,
   "metadata": {},
   "outputs": [
    {
     "ename": "TypeError",
     "evalue": "list indices must be integers or slices, not str",
     "output_type": "error",
     "traceback": [
      "\u001b[1;31m---------------------------------------------------------------------------\u001b[0m",
      "\u001b[1;31mTypeError\u001b[0m                                 Traceback (most recent call last)",
      "Cell \u001b[1;32mIn[1], line 37\u001b[0m\n\u001b[0;32m     35\u001b[0m \u001b[39m# Exemplo de uso\u001b[39;00m\n\u001b[0;32m     36\u001b[0m ingrediente_pesquisado \u001b[39m=\u001b[39m \u001b[39minput\u001b[39m(\u001b[39m\"\u001b[39m\u001b[39mDigite o ingrediente que você procura: \u001b[39m\u001b[39m\"\u001b[39m)\n\u001b[1;32m---> 37\u001b[0m receitas_encontradas \u001b[39m=\u001b[39m buscar_receitas_por_ingrediente(ingrediente_pesquisado)\n\u001b[0;32m     39\u001b[0m \u001b[39mif\u001b[39;00m receitas_encontradas:\n\u001b[0;32m     40\u001b[0m   \u001b[39mprint\u001b[39m(\u001b[39mf\u001b[39m\u001b[39m\"\u001b[39m\u001b[39mReceitas encontradas com o ingrediente \u001b[39m\u001b[39m{\u001b[39;00mingrediente_pesquisado\u001b[39m}\u001b[39;00m\u001b[39m:\u001b[39m\u001b[39m\"\u001b[39m)\n",
      "Cell \u001b[1;32mIn[1], line 25\u001b[0m, in \u001b[0;36mbuscar_receitas_por_ingrediente\u001b[1;34m(ingrediente)\u001b[0m\n\u001b[0;32m     23\u001b[0m \u001b[39m# Filtra as receitas que contêm o ingrediente\u001b[39;00m\n\u001b[0;32m     24\u001b[0m receitas_com_ingrediente \u001b[39m=\u001b[39m []\n\u001b[1;32m---> 25\u001b[0m \u001b[39mfor\u001b[39;00m receita \u001b[39min\u001b[39;00m dados[\u001b[39m\"\u001b[39;49m\u001b[39mreceitas\u001b[39;49m\u001b[39m\"\u001b[39;49m]:\n\u001b[0;32m     26\u001b[0m   \u001b[39mif\u001b[39;00m ingrediente\u001b[39m.\u001b[39mlower() \u001b[39min\u001b[39;00m receita[\u001b[39m\"\u001b[39m\u001b[39mingredientes\u001b[39m\u001b[39m\"\u001b[39m]\u001b[39m.\u001b[39mlower():\n\u001b[0;32m     27\u001b[0m     receitas_com_ingrediente\u001b[39m.\u001b[39mappend(receita)\n",
      "\u001b[1;31mTypeError\u001b[0m: list indices must be integers or slices, not str"
     ]
    }
   ],
   "source": [
    "import requests\n",
    "\n",
    "def buscar_receitas_por_ingrediente(ingrediente):\n",
    "  \"\"\"\n",
    "  Função que busca receitas por ingrediente na API.\n",
    "\n",
    "  Args:\n",
    "      ingrediente (str): O ingrediente a ser buscado.\n",
    "\n",
    "  Returns:\n",
    "      list: Uma lista de dicionários contendo as receitas que contêm o ingrediente.\n",
    "  \"\"\"\n",
    "\n",
    "  # Faz a requisição à API\n",
    "  url = \"https://gold-anemone-wig.cyclic.app/receitas/todas\"\n",
    "  resposta = requests.get(url)\n",
    "\n",
    "  # Verifica se a requisição foi bem sucedida\n",
    "  if resposta.status_code == 200:\n",
    "    # Converte o JSON da resposta em um dicionário\n",
    "    dados = resposta.json()\n",
    "\n",
    "    # Filtra as receitas que contêm o ingrediente\n",
    "    receitas_com_ingrediente = []\n",
    "    for receita in dados[\"receitas\"]:\n",
    "      if ingrediente.lower() in receita[\"ingredientes\"].lower():\n",
    "        receitas_com_ingrediente.append(receita)\n",
    "\n",
    "    return receitas_com_ingrediente\n",
    "  else:\n",
    "    # Erro na requisição à API\n",
    "    print(f\"Erro na requisição à API: {resposta.status_code}\")\n",
    "    return []\n",
    "\n",
    "# Exemplo de uso\n",
    "ingrediente_pesquisado = input(\"Digite o ingrediente que você procura: \")\n",
    "receitas_encontradas = buscar_receitas_por_ingrediente(ingrediente_pesquisado)\n",
    "\n",
    "if receitas_encontradas:\n",
    "  print(f\"Receitas encontradas com o ingrediente {ingrediente_pesquisado}:\")\n",
    "  for receita in receitas_encontradas:\n",
    "    print(f\"- {receita['nome']}\")\n",
    "else:\n",
    "  print(f\"Não foram encontradas receitas com o ingrediente {ingrediente_pesquisado}.\")\n"
   ]
  }
 ],
 "metadata": {
  "kernelspec": {
   "display_name": "Python 3",
   "language": "python",
   "name": "python3"
  },
  "language_info": {
   "codemirror_mode": {
    "name": "ipython",
    "version": 3
   },
   "file_extension": ".py",
   "mimetype": "text/x-python",
   "name": "python",
   "nbconvert_exporter": "python",
   "pygments_lexer": "ipython3",
   "version": "3.9.12"
  },
  "orig_nbformat": 4
 },
 "nbformat": 4,
 "nbformat_minor": 2
}
